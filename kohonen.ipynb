{
 "cells": [
  {
   "cell_type": "markdown",
   "metadata": {},
   "source": [
    "# Self Organising Map Challenge\n",
    "\n",
    "## The Kohonen Network\n",
    "\n",
    "The Kohonen Self Organising Map (SOM) provides a data visualization technique which helps to understand high dimensional data by reducing the dimensions of data to a map. SOM also represents clustering concept by grouping similar data together.\n",
    "\n",
    "Unlike other learning technique in neural networks, training a SOM requires no target vector. A SOM learns to classify the training data without any external supervision.\n",
    "\n",
    "![Network](kohonen.png)\n",
    "\n",
    "### Structure\n",
    "A network has a width and a height that descibes the grid of nodes.  For example, the grid may be 4x4, and so there would be 16 nodes.\n",
    "\n",
    "Each node has a weight for each value in the input vector.  A weight is simply a float value that the node multiplies the input value by to determine how influential it is (see below)\n",
    "\n",
    "Each node has a set of weights that match the size of the input vector.  For example, if the input vector has 10 elements, each node would have 10 weights.\n",
    "\n",
    "### Training \n",
    "To train the network\n",
    "\n",
    "1. Each node's weights are initialized.\n",
    "2. We enumerate through the training data for some number of iterations (repeating if necessary).  The current value we are training against will be referred to as the `current input vector`\n",
    "3. Every node is examined to calculate which one's weights are most like the input vector. The winning node is commonly known as the Best Matching Unit (BMU).\n",
    "4. The radius of the neighbourhood of the BMU is now calculated. This is a value that starts large, typically set to the 'radius' of the lattice,  but diminishes each time-step. Any nodes found within this radius are deemed to be inside the BMU's neighbourhood.\n",
    "5. Each neighbouring node's (the nodes found in step 4) weights are adjusted to make them more like the input vector. The closer a node is to the BMU, the more its weights get altered.\n",
    "6. Go to step 2 until we've completed N iterations.\n",
    "    \n",
    "\n",
    "### Calculating the Best Matching Unit (BMU)\n",
    "\n",
    "To determine the best matching unit, one method is to iterate through all the nodes and calculate the Euclidean distance between each node's weight vector and the current input vector. The node with a weight vector closest to the input vector is tagged as the BMU.\n",
    "\n",
    "The Euclidean distance $\\mathsf{distance}_{i}$ (from the input vector $V$ to the $i$th node's weights $W_i$)is given as (using Pythagoras):\n",
    "\n",
    "$$ \\mathsf{distance}_{i}=\\sqrt{\\sum_{k=0}^{k=n}(V_k - W_{i_k})^2}$$\n",
    "\n",
    "where V is the current input vector and $W_i$ is the node's weight vector.  $n$ is the size of the input & weight vector.\n",
    "\n",
    "*Note*: $V$ and $W$ are vectors.  $V$ is the input vector, and $W_i$ is the weight vector of the $i$th node.  $V_k$ and $W_{i_k}$ represent the $k$'th value within those vectors.  \n",
    "\n",
    "The BMU is the node with the minimal distance for the current input vector\n",
    "\n",
    "### Calculating the Neighbourhood Radius\n",
    "\n",
    "The next step is to calculate which of the other nodes are within the BMU's neighbourhood. All these nodes will have their weight vectors altered.\n",
    "\n",
    "First we calculate what the radius of the neighbourhood should be and then use Pythagoras to determine if each node is within the radial distance or not.\n",
    "\n",
    "A unique feature of the Kohonen learning algorithm is that the area of the neighbourhood shrinks over time. To do this we use the exponential decay function:\n",
    "\n",
    "Given a desired number of training iterations $n$:\n",
    "$$n_{\\mathsf{max iterations}} = 100$$\n",
    "\n",
    "Calculate the radius $\\sigma_t$ at iteration number $t$:\n",
    "\n",
    "$$\\sigma_t = \\sigma_0 \\exp\\left(- \\frac{t}{\\lambda} \\right) \\qquad t = 1,2,3,4... $$\n",
    "\n",
    "Where $\\sigma_0$ denotes the neighbourhood radius at iteration $t=0$, $t$ is the current iteration. We define $\\sigma_0$ (the initial radius) and $\\lambda$ (the time constant) as below:\n",
    "\n",
    "$$\\sigma_0 = \\frac{\\max(width,height)}{2} \\qquad \\lambda = \\frac{n_{\\mathsf{max iterations}}}{\\log(\\sigma_0)} $$\n",
    "\n",
    "Where $width$ & $height$ are the width and height of the grid.\n",
    "\n",
    "### Calculating the Learning Rate\n",
    "\n",
    "We define the initial leanring rate $\\alpha_0$ at iteration $t = 0$ as:\n",
    "$$\\alpha_0 = 0.1$$\n",
    "\n",
    "So, we can calculate the learning rate at a given iteration t as:\n",
    "\n",
    "$$\\alpha_t = \\alpha_0 \\exp \\left(- \\frac{t}{\\lambda} \\right) $$\n",
    "\n",
    "where $t$ is the iteration number, $\\lambda$ is the time constant (calculated above)\n",
    "        \n",
    "### Calculating the Influence\n",
    "\n",
    "As well as the learning rate, we need to calculate the influence $\\theta_t$ of the learning/training at a given iteration $t$.  \n",
    "\n",
    "So for each node, we need to caclulate the euclidean distance $d_i$ from the BMU to that node.  Similar to when we calculate the distance to find the BMU, we use Pythagoras.  The current ($i$th) node's x position is given by $x(W_i)$, and the BMU's x position is, likewise, given by $x(Z)$.  Similarly, $y()$ returns the y position of a node.\n",
    "\n",
    "$$ d_{i}=\\sqrt{(x(W_i) - x(Z))^2 + (y(W_i) - y(Z))^2} $$\n",
    "\n",
    "Then, the influence decays over time according to:\n",
    "\n",
    "$$\\theta_t = \\exp \\left( - \\frac{d_{i}^2}{2\\sigma_t^2} \\right) $$\n",
    "\n",
    "Where $\\sigma_t$ is the neighbourhood radius at iteration $t$ as calculated above. \n",
    "\n",
    "Note: You will need to come up with an approach to x() and y().\n",
    "\n",
    "\n",
    "### Updating the Weights\n",
    "\n",
    "To update the weights of a given node, we use:\n",
    "\n",
    "$$W_{i_{t+1}} = W_{i_t} + \\alpha_t \\theta_t (V_t - W_{i_t})$$\n",
    "        \n",
    "So $W_{i_{t+1}}$ is the new value of the weight for the $i$th node, $V_t$ is the current value of the training data, $W_{i_t}$ is the current weight and $\\alpha_t$ and $\\theta_t$ are the learning rate and influence calculated above.\n",
    "\n",
    "*Note*: the $W$ and $V$ are vectors "
   ]
  },
  {
   "cell_type": "markdown",
   "metadata": {},
   "source": [
    "### Example 10x10 network after 100 iterations"
   ]
  },
  {
   "cell_type": "markdown",
   "metadata": {},
   "source": [
    "### Example 100x100 network after 1000 iterations"
   ]
  },
  {
   "cell_type": "markdown",
   "metadata": {},
   "source": [
    "## Challenge\n",
    "\n",
    "Sam has written an implementation of a Self Organising Map. Consider the following criteria when assessing Sam's code:\n",
    "\n",
    "- Could the code be made more efficient? A literal interpretation of the instructions above is not necessary.\n",
    "\n",
    "Sh: To make the code more efficient vectorization has been used to replace loops (width and height). A second type of implementation is added where we calculate distances in the PCA space rather than the grid distances for influence calculation. A mask is used to mask the nodes in the grid and influence is calculated for the masked nodes in the grids. The weights are there by only changed for the masked nodes and for the remaining nodes the delta is 0 so the weights are not updates\n",
    "\n",
    "\n",
    "- Is the code best structured for later use by other developers and in anticipation of productionisation?\n",
    "\n",
    "Sh: No, the current code code is not best structured for productionisation and later use for other developers for the following reasons:\n",
    "1. Lack of comments in code to highlight the functionality of different parts of the code\n",
    "2. Code is not written in an object oriented manner making it less efficient for reusability and scalability. With an object oriented approach it will be easier to add features and makes it easier for collaboration.\n",
    "3. Code is not written in a manner to reduce the time and space complexity. For cases where there are higher width, height and max_iterations, the code would not scale well as there is a section in code which has o(n2) time complexity which can be replaced by a simple mask to make it more efficient.\n",
    "\n",
    "\n",
    "- How would you approach productionising this application?\n",
    "\n",
    "Sh: Some things I would do to productionise the code:\n",
    "\n",
    "1. Write code in an object oriented manner for better scalability, maintenance, reusability.\n",
    "2. To avoid package related errors, replace package data structures by pythonic data structures \n",
    "3. Add comments for better readability\n",
    "4. Expose the training pipeline through an API endpoint which can be called\n",
    "5. Instead of using matplotlib library to plot, the weights can be plotted using other tools such as PowerBI or Tableau on the front end since the results will be available on a different interface, which may not contain python\n",
    "\n",
    "\n",
    "- Anything else you think is relevant.\n",
    "\n",
    "Sh: Some obeservations regarding the implementation of the kohonen algorithm:\n",
    "\n",
    "2 implementations of kohonen algorithm have been done:\n",
    "a. Grid distance used for influence calculations: Nodes closer to each other to each other will become similar to each other. Useful when we want an even color gradient\n",
    "b. Feature based influence calculation: Nodes similar to each other in the feature space will be organize together. This will lead to a less smooth color gradient compared to the grid based method but will be useful in cases where we may want to cluster similar nodes together with rigid boundaries\n",
    "\n",
    "1. The current implementations starts with a radius by using max(height, width)/2 which is the radius of the meshgrid itself. However the meshgrid doesn't represent where the nodes actually lie relative to each other. A secondary implementation is added (use_pca=True) where we use the distances between the weights itself to calculate influence. This approach may be more useful to identify the weights that are similar to the bmu, thereby giving them more influence. For example nodes closer to the bmu may not be similar to the bmu. It may be more appropriate to use a different method to initialize the radius that represents how close the nodes are relative to each other. \n",
    "\n",
    "2. nodes closer to bmu have a higher influence as influence is inversly proportional to d_i**2. influence also decreases with time so this implies the delta decreases with time. From this we can conclude that as the number of iterations increase, only nodes which are closer to the bmu are altered more\n",
    "\n",
    "3. If we slow down the decay by decreasing the rate of decay or decreasing the rate of decay of learning rate we would see an uneven color gradient as colors would be more separated out into many clusters. \n",
    "\n"
   ]
  },
  {
   "cell_type": "code",
   "execution_count": 34,
   "metadata": {},
   "outputs": [],
   "source": [
    "import numpy as np\n",
    "from sklearn.decomposition import PCA\n",
    "import math\n",
    "import matplotlib.pyplot as plt\n",
    "\n",
    "class KohonenSOM:\n",
    "    \"\"\"\n",
    "    Implementation of a Kohonen Self-Organizing Map (SOM).\n",
    "    \n",
    "    This class provides methods for training and visualizing a self-organizing map,\n",
    "    with options for using PCA-based or lattice-based distance calculations.\n",
    "    \n",
    "    Parameters\n",
    "    ----------\n",
    "    width : int\n",
    "        Width of the SOM grid\n",
    "    height : int\n",
    "        Height of the SOM grid\n",
    "    input_size : int\n",
    "        Dimensionality of the input vectors\n",
    "    max_iterations : int, optional (default=100)\n",
    "        Maximum number of training iterations\n",
    "    use_pca : bool, optional (default=True)\n",
    "        Whether to use PCA for influence calculation (True) or \n",
    "        lattice-based distances (False)\n",
    "    \"\"\"\n",
    "    def __init__(self, width, height, input_size, max_iterations=100, use_pca=True):\n",
    "        self.width = width\n",
    "        self.height = height\n",
    "        self.input_size = input_size\n",
    "        self.max_iterations = max_iterations\n",
    "        self.use_pca = use_pca  # Parameter to control whether to use PCA\n",
    "        \n",
    "        # Initialize weights randomly\n",
    "        self.weights = np.random.rand(width, height, input_size)\n",
    "        \n",
    "        # Time constant lambda\n",
    "        self.sigma0 = max(width, height) \n",
    "        self.lambd = max_iterations / math.log(self.sigma0)\n",
    "\n",
    "        # Precompute meshgrid for grid coordinates\n",
    "        self.x_coords, self.y_coords = np.meshgrid(np.arange(self.width), np.arange(self.height), indexing='ij')\n",
    "\n",
    "    def find_bmu(self, input_vector):\n",
    "        \"\"\"\n",
    "        Find the Best Matching Unit (BMU) for a given input vector.        \n",
    "        Parameters\n",
    "        ----------\n",
    "        input_vector : numpy.ndarray\n",
    "            The input vector to find the BMU for\n",
    "            \n",
    "        Returns\n",
    "        -------\n",
    "        tuple\n",
    "            (x, y) coordinates of the BMU in the grid\n",
    "        \"\"\"\n",
    "        distances = np.linalg.norm(self.weights - input_vector, axis=2)\n",
    "        bmu_index = np.unravel_index(np.argmin(distances), distances.shape)\n",
    "        return bmu_index\n",
    "\n",
    "    def get_pca_coords(self):\n",
    "        \"\"\"\n",
    "        Transform the weights of all nodes to 2D using PCA.        \n",
    "        Returns\n",
    "        -------\n",
    "        numpy.ndarray\n",
    "            Array of shape (width, height, 2) containing 2D PCA coordinates for each node\n",
    "        \"\"\"\n",
    "        flat_weights = self.weights.reshape(-1, self.input_size)\n",
    "        pca = PCA(n_components=2)\n",
    "        pca_coords = pca.fit_transform(flat_weights)\n",
    "        return pca_coords.reshape(self.width, self.height, 2)\n",
    "\n",
    "    def train(self, training_data):\n",
    "        \"\"\"\n",
    "        Train the Self-Organizing Map using the given training data.\n",
    "        Parameters\n",
    "        ----------\n",
    "        training_data : numpy.ndarray\n",
    "            Array of shape (n_samples, input_size) containing training vectors\n",
    "        \"\"\"\n",
    "        for iteration in range(self.max_iterations):\n",
    "            np.random.shuffle(training_data)\n",
    "            \n",
    "            # Calculate current radius and learning rate with min thresholds\n",
    "            MIN_SIGMA = 0.1\n",
    "            MIN_ALPHA = 0.001\n",
    "            \n",
    "            sigma_t = max(MIN_SIGMA, self.sigma0 * math.exp(-iteration / self.lambd))\n",
    "            alpha_t = max(MIN_ALPHA, 0.1 * math.exp(-iteration / self.lambd))\n",
    "            \n",
    "            # Calculate PCA coordinates \n",
    "            if self.use_pca:\n",
    "                pca_coords = self.get_pca_coords()\n",
    "            \n",
    "            for vt in training_data:\n",
    "                # Find the Best Matching Unit \n",
    "                bmu_x, bmu_y = self.find_bmu(vt)\n",
    "                \n",
    "                # Create a grid of distances from the BMU \n",
    "                grid_dists = np.sqrt((self.x_coords - bmu_x)**2 + (self.y_coords - bmu_y)**2)\n",
    "                \n",
    "                if self.use_pca:\n",
    "                    # Using PCA for influence calculation\n",
    "                    bmu_pca = pca_coords[bmu_x, bmu_y]\n",
    "                    \n",
    "                    # Calculate distances in PCA space \n",
    "                    dists = np.sqrt(np.sum((pca_coords - bmu_pca[np.newaxis, np.newaxis, :]) ** 2, axis=2))\n",
    "                    \n",
    "                    # Identify nodes within the neighborhood radius\n",
    "                    mask = grid_dists <= sigma_t\n",
    "                    \n",
    "                    # Calculate influence only for nodes in the neighborhood\n",
    "                    influence = np.zeros_like(grid_dists)\n",
    "                    influence[mask] = np.exp(-(dists[mask] ** 2) / (2 * (sigma_t ** 2)))\n",
    "                    # influence = np.exp(-(dists ** 2) / (2 * (sigma_t ** 2)))\n",
    "                    \n",
    "                else:\n",
    "                    # Using lattice distances for smoother gradients \n",
    "                    # Calculate neighborhood function (theta) using grid distances\n",
    "                    influence = np.exp(-(grid_dists ** 2) / (2 * (sigma_t ** 2)))\n",
    "                \n",
    "                # Add extra dimension for broadcasting with weights \n",
    "                influence = influence[:, :, np.newaxis]\n",
    "                \n",
    "                # Update weights \n",
    "                self.weights += alpha_t * influence * (vt - self.weights)\n",
    "                \n",
    "                # print(f\"Iteration {iteration}, Sigma: {sigma_t:.4f}, Alpha: {alpha_t:.4f}, \" \n",
    "                    #   f\"Neighborhood size: {np.sum(influence > 0.01)}\")\n",
    "\n",
    "    def get_weights(self):\n",
    "        \"\"\"\n",
    "        Get the weights of all nodes after training.\n",
    "        \n",
    "        Returns\n",
    "        -------\n",
    "        numpy.ndarray\n",
    "            Array of shape (width, height, input_size) containing the weight\n",
    "            vectors of all nodes in the grid\n",
    "        \"\"\"\n",
    "        return self.weights"
   ]
  },
  {
   "cell_type": "code",
   "execution_count": 35,
   "metadata": {},
   "outputs": [
    {
     "data": {
      "text/plain": [
       "<matplotlib.image.AxesImage at 0x1f6ef779ba0>"
      ]
     },
     "execution_count": 35,
     "metadata": {},
     "output_type": "execute_result"
    },
    {
     "data": {
      "image/png": "[encoded data removed]",
      "text/plain": [
       "<Figure size 640x480 with 1 Axes>"
      ]
     },
     "metadata": {},
     "output_type": "display_data"
    }
   ],
   "source": [
    "input_data = np.random.random((10,3))\n",
    "som = KohonenSOM(10, 10, 3, 100, use_pca=False)\n",
    "# Train the network\n",
    "som.train(input_data)\n",
    "image_data = som.get_weights()\n",
    "plt.imshow(image_data)"
   ]
  },
  {
   "cell_type": "code",
   "execution_count": 36,
   "metadata": {},
   "outputs": [
    {
     "data": {
      "text/plain": [
       "<matplotlib.image.AxesImage at 0x1f6ef7ce020>"
      ]
     },
     "execution_count": 36,
     "metadata": {},
     "output_type": "execute_result"
    },
    {
     "data": {
      "image/png": "[encoded data removed]",
      "text/plain": [
       "<Figure size 640x480 with 1 Axes>"
      ]
     },
     "metadata": {},
     "output_type": "display_data"
    }
   ],
   "source": [
    "input_data = np.random.random((10,3))\n",
    "som = KohonenSOM(100, 100, 3, 1000,use_pca=False)\n",
    "# Train the network\n",
    "som.train(input_data)\n",
    "image_data = som.get_weights()\n",
    "plt.imshow(image_data)"
   ]
  },
  {
   "cell_type": "code",
   "execution_count": 37,
   "metadata": {},
   "outputs": [
    {
     "data": {
      "text/plain": [
       "<matplotlib.image.AxesImage at 0x1f6ef976ef0>"
      ]
     },
     "execution_count": 37,
     "metadata": {},
     "output_type": "execute_result"
    },
    {
     "data": {
      "image/png": "[encoded data removed]",
      "text/plain": [
       "<Figure size 640x480 with 1 Axes>"
      ]
     },
     "metadata": {},
     "output_type": "display_data"
    }
   ],
   "source": [
    "input_data = np.random.random((10,3))\n",
    "som = KohonenSOM(10, 10, 3, 100, use_pca=True)\n",
    "# Train the network\n",
    "som.train(input_data)\n",
    "image_data = som.get_weights()\n",
    "plt.imshow(image_data)"
   ]
  },
  {
   "cell_type": "code",
   "execution_count": 38,
   "metadata": {},
   "outputs": [
    {
     "data": {
      "text/plain": [
       "<matplotlib.image.AxesImage at 0x1f6ef9d3910>"
      ]
     },
     "execution_count": 38,
     "metadata": {},
     "output_type": "execute_result"
    },
    {
     "data": {
      "image/png": "[encoded data removed]",
      "text/plain": [
       "<Figure size 640x480 with 1 Axes>"
      ]
     },
     "metadata": {},
     "output_type": "display_data"
    }
   ],
   "source": [
    "input_data = np.random.random((10,3))\n",
    "som = KohonenSOM(100, 100, 3, 1000,use_pca=True)\n",
    "# Train the network\n",
    "som.train(input_data)\n",
    "image_data = som.get_weights()\n",
    "plt.imshow(image_data)"
   ]
  },
  {
   "cell_type": "code",
   "execution_count": null,
   "metadata": {},
   "outputs": [],
   "source": []
  }
 ],
 "metadata": {
  "kernelspec": {
   "display_name": "mantel_env",
   "language": "python",
   "name": "python3"
  },
  "language_info": {
   "codemirror_mode": {
    "name": "ipython",
    "version": 3
   },
   "file_extension": ".py",
   "mimetype": "text/x-python",
   "name": "python",
   "nbconvert_exporter": "python",
   "pygments_lexer": "ipython3",
   "version": "3.10.16"
  }
 },
 "nbformat": 4,
 "nbformat_minor": 2
}
